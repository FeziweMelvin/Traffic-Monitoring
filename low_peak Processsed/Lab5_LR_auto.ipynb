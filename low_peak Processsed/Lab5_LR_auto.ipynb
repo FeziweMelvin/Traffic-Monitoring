{
 "cells": [
  {
   "cell_type": "markdown",
   "id": "742486b4",
   "metadata": {},
   "source": [
    "### General Instructions\n",
    "\n",
    "Do not change the file name, method name or any variable name in your submission file. \n",
    "\n",
    "Make sure you fill in any place that says `YOUR CODE HERE` or \"YOUR ANSWER HERE\", as well as your name and student number below.\n",
    "\n",
    "Before you turn this problem in, make sure everything runs as expected. First, **restart the kernel** (in the menubar, select Kernel$\\rightarrow$Restart) and then **run all cells** (in the menubar, select Cell$\\rightarrow$Run All).\n",
    "\n",
    "Also, ensure that your notebook does not give errors before submitting. Ensure there is no 'Assertion Error', 'NotImplementedError' or  test(s) failed  feedback. \n",
    "\n",
    "NotImplementedError: this means there is a code cell/task you are yet to implement.\n",
    "\n",
    "AssertionError: this means your implementation is failing some tests.\n",
    "\n",
    "Note that your assignment will be checked with additional test cases after submission. Ensure you work with the instructions given.\n",
    "\n",
    "DO NOT EDIT ANY CELL/NOTEBOOK METADATA.\n",
    "\n",
    "\n"
   ]
  },
  {
   "cell_type": "code",
   "execution_count": 133,
   "id": "d7d3c9bf",
   "metadata": {},
   "outputs": [],
   "source": [
    "NAME = \"Feziwe M Shongwe\"\n",
    "STUDENT_NUMBER = \"213531\""
   ]
  },
  {
   "cell_type": "markdown",
   "id": "978cc62b",
   "metadata": {},
   "source": [
    "---"
   ]
  },
  {
   "cell_type": "markdown",
   "id": "61a959c7-29f6-4029-b021-2a64c63ddc91",
   "metadata": {
    "deletable": false,
    "editable": false,
    "nbgrader": {
     "cell_type": "markdown",
     "checksum": "497c919d758714dfce630d8508bea611",
     "grade": false,
     "grade_id": "cell-61d0448710425948",
     "locked": true,
     "schema_version": 3,
     "solution": false,
     "task": false
    },
    "tags": []
   },
   "source": [
    "# <center>  COMS4054A/COMS7066A </center>\n",
    "# <center> Natural Language Processing/Technology (NLP) 2022 </center>\n",
    "## <center> Lab Session 5 </center>\n",
    "### <center> 28th September, 2022 </center>"
   ]
  },
  {
   "cell_type": "markdown",
   "id": "5707240b-d30b-4459-95c9-d2bec104b157",
   "metadata": {
    "deletable": false,
    "editable": false,
    "nbgrader": {
     "cell_type": "markdown",
     "checksum": "1ab1e738798b1ee749dbc1c13af31ea9",
     "grade": false,
     "grade_id": "cell-110844541c165c12",
     "locked": true,
     "schema_version": 3,
     "solution": false,
     "task": false
    }
   },
   "source": [
    "# Classification Using Logistic Regression\n",
    "A very simple lab just to practice the calculations performed in class.\n",
    "\n",
    "(30 Marks)"
   ]
  },
  {
   "cell_type": "markdown",
   "id": "5477b6a6-22b6-4874-99b8-53097d5c2dde",
   "metadata": {
    "deletable": false,
    "editable": false,
    "nbgrader": {
     "cell_type": "markdown",
     "checksum": "f7b3b6ed1982f2cad6be671aa20bd300",
     "grade": false,
     "grade_id": "cell-58f0f9eeb9bbe809",
     "locked": true,
     "schema_version": 3,
     "solution": false,
     "task": false
    },
    "tags": []
   },
   "source": [
    "### Objectives\n",
    "\n",
    "The goal of this session is to have a practical engagement on the topic discussed in Lecture 5.\n",
    "- Build a Logistic Regression Classifier \n",
    "- This notebook demonstrates the concepts from the lecture note."
   ]
  },
  {
   "cell_type": "markdown",
   "id": "798ad673-2d07-405f-8755-8f85c9e1153d",
   "metadata": {},
   "source": [
    "### Task Outline\n",
    "[Task 1](#task1) (5 points)\n",
    "\n",
    "[Task 2](#task2) (5 points)\n",
    "\n",
    "[Task 3](#task3) (5 points)\n",
    "\n",
    "[Task 4](#task4) (15 points)"
   ]
  },
  {
   "cell_type": "code",
   "execution_count": 134,
   "id": "23ba611a",
   "metadata": {
    "tags": []
   },
   "outputs": [],
   "source": [
    "import numpy as np\n",
    "import matplotlib.pyplot as plt\n",
    "# import warnings\n",
    "# warnings.filterwarnings(\"ignore\")"
   ]
  },
  {
   "cell_type": "markdown",
   "id": "a96468ff-394e-43d4-aa6d-35e8604ed7ab",
   "metadata": {
    "deletable": false,
    "editable": false,
    "nbgrader": {
     "cell_type": "markdown",
     "checksum": "8a1119b1d123a52fa71da03cf6d72b8b",
     "grade": false,
     "grade_id": "cell-1a59d29fd18bd0cc",
     "locked": true,
     "schema_version": 3,
     "solution": false,
     "task": false
    },
    "tags": []
   },
   "source": [
    "#### Feature Representation\n",
    "\n",
    "`X` is a single input with 6 features. \n",
    "\n",
    "`w` represents the weights of the features.\n",
    "\n",
    "`b` is the bias."
   ]
  },
  {
   "cell_type": "code",
   "execution_count": 135,
   "id": "8f62afa9-e012-4c0d-ab4d-a57c585aafac",
   "metadata": {
    "deletable": false,
    "editable": false,
    "nbgrader": {
     "cell_type": "code",
     "checksum": "8c395a35a1cfe8a32d4968f470bf6a61",
     "grade": false,
     "grade_id": "cell-46ca0c264721951f",
     "locked": true,
     "schema_version": 3,
     "solution": false,
     "task": false
    }
   },
   "outputs": [],
   "source": [
    "X = np.array([3,2,1,3,0,4.19])\n",
    "w = np.array([2.5, -5.0, -1.2, 0.5, 2.0, 0.7])\n",
    "b = 0.1"
   ]
  },
  {
   "cell_type": "markdown",
   "id": "d0e5731c-5ed4-44a6-9707-11804fdad77f",
   "metadata": {
    "deletable": false,
    "editable": false,
    "nbgrader": {
     "cell_type": "markdown",
     "checksum": "d7fa248fdf72987a90252e894584a900",
     "grade": false,
     "grade_id": "cell-85d4b93131b8f7c7",
     "locked": true,
     "schema_version": 3,
     "solution": false,
     "task": false
    }
   },
   "source": [
    "### Task 1 - Compute the Weighted Features  <a id='task1'></a>\n",
    "Sum up all the weighted features and the bias using the formula given.\n",
    "- Implement this is in function `weighted_features`.\n",
    "- The function takes as input, X (a matrix) - the input, the weights vector and the bias.\n",
    "- Returns `z` using the formula\n",
    "\n",
    "\n",
    "\n",
    "![lr1](lr1.png)"
   ]
  },
  {
   "cell_type": "code",
   "execution_count": 136,
   "id": "3ae1428f-2680-425e-b8de-e71252b98c33",
   "metadata": {
    "deletable": false,
    "nbgrader": {
     "cell_type": "code",
     "checksum": "2c4eda677b42b343b46827b859f5b63f",
     "grade": false,
     "grade_id": "task1",
     "locked": false,
     "schema_version": 3,
     "solution": true,
     "task": false
    }
   },
   "outputs": [],
   "source": [
    "def weighted_features(X,weights,b):\n",
    "    # YOUR CODE HERE\n",
    "    z = np.sum((weights * X)) + b\n",
    "    return z\n",
    "    raise NotImplementedError()"
   ]
  },
  {
   "cell_type": "code",
   "execution_count": 137,
   "id": "bcc9a07a",
   "metadata": {
    "deletable": false,
    "editable": false,
    "nbgrader": {
     "cell_type": "code",
     "checksum": "1aece319da993459f1137d7d3e98fbdc",
     "grade": true,
     "grade_id": "task1a",
     "locked": true,
     "points": 1,
     "schema_version": 3,
     "solution": false,
     "task": false
    }
   },
   "outputs": [],
   "source": [
    "assert type(weighted_features(X,w,b)) ==  np.float64"
   ]
  },
  {
   "cell_type": "code",
   "execution_count": 138,
   "id": "e1296562-7c39-46e5-8d00-8b3be2de647c",
   "metadata": {
    "deletable": false,
    "editable": false,
    "nbgrader": {
     "cell_type": "code",
     "checksum": "5f582f71189b303c6c0006a04d5d8250",
     "grade": true,
     "grade_id": "task1c",
     "locked": true,
     "points": 2,
     "schema_version": 3,
     "solution": false,
     "task": false
    }
   },
   "outputs": [
    {
     "name": "stdout",
     "output_type": "stream",
     "text": [
      "Passed Test!\n"
     ]
    }
   ],
   "source": [
    "X = np.array([[3,2,1,3,0,4.19]])\n",
    "w = np.array([2.5, -5.0, -1.2, 0.5, 2.0, 0.7])\n",
    "b = 0.1\n",
    "assert weighted_features(X,w,b).round(3) == 0.833, \"Failed test\"\n",
    "print(\"Passed Test!\")"
   ]
  },
  {
   "cell_type": "code",
   "execution_count": 139,
   "id": "2bf123ad",
   "metadata": {
    "deletable": false,
    "editable": false,
    "nbgrader": {
     "cell_type": "code",
     "checksum": "d744056c8baaa92acf6d7eb86e446c48",
     "grade": true,
     "grade_id": "task1b",
     "locked": true,
     "points": 2,
     "schema_version": 3,
     "solution": false,
     "task": false
    }
   },
   "outputs": [
    {
     "name": "stdout",
     "output_type": "stream",
     "text": [
      "Passed Test!\n"
     ]
    }
   ],
   "source": [
    "l = np.array([[3.5,2.5,1,3,0,4.19]])\n",
    "m = np.array([2, -5.0, -1.2, 0.5, -2.0, 0.7])\n",
    "n = 0.3\n",
    "assert weighted_features(l,m,n).round(3) == -1.967, \"Failed test\"\n",
    "print(\"Passed Test!\")"
   ]
  },
  {
   "cell_type": "markdown",
   "id": "cb1d4d4f-7b31-46a1-bc08-15090ccb04e8",
   "metadata": {},
   "source": [
    "### Task 2 - Sigmoid Function  <a id='task2'></a>\n",
    "- This is the equation of Sigmoid Function\n",
    "- Implement function `sigmoid` using the formula given.\n",
    "- return the computation for `y`\n",
    "![lr2](lr2.png)"
   ]
  },
  {
   "cell_type": "code",
   "execution_count": 140,
   "id": "494602ff-34ca-4aa6-a7eb-b02b92d94f10",
   "metadata": {
    "deletable": false,
    "nbgrader": {
     "cell_type": "code",
     "checksum": "45ae29eae3ff50d78f72250e9854b3e9",
     "grade": false,
     "grade_id": "Task2",
     "locked": false,
     "schema_version": 3,
     "solution": true,
     "task": false
    }
   },
   "outputs": [],
   "source": [
    "def sigmoid(x):\n",
    "    # YOUR CODE HERE\n",
    "    y = 1/(1 + (np.e)**(-1*x))\n",
    "    return y\n",
    "    raise NotImplementedError()"
   ]
  },
  {
   "cell_type": "code",
   "execution_count": 141,
   "id": "35435884",
   "metadata": {},
   "outputs": [
    {
     "data": {
      "text/plain": [
       "8"
      ]
     },
     "execution_count": 141,
     "metadata": {},
     "output_type": "execute_result"
    }
   ],
   "source": [
    "2**3"
   ]
  },
  {
   "cell_type": "code",
   "execution_count": 142,
   "id": "6a4cee69-87b2-4eca-8ee0-400f7d6732ef",
   "metadata": {
    "deletable": false,
    "editable": false,
    "nbgrader": {
     "cell_type": "code",
     "checksum": "f42672af0f84dd9c2dfe171453a9a0a1",
     "grade": true,
     "grade_id": "task2a",
     "locked": true,
     "points": 2,
     "schema_version": 3,
     "solution": false,
     "task": false
    }
   },
   "outputs": [
    {
     "name": "stdout",
     "output_type": "stream",
     "text": [
      "Passed test!\n"
     ]
    }
   ],
   "source": [
    "assert sigmoid(weighted_features(X,w,b)).round(3) == 0.697\n",
    "print (\"Passed test!\")"
   ]
  },
  {
   "cell_type": "code",
   "execution_count": 143,
   "id": "884eee5f",
   "metadata": {
    "deletable": false,
    "editable": false,
    "nbgrader": {
     "cell_type": "code",
     "checksum": "db15a8da2bba67b2cb0838fe39537f2d",
     "grade": true,
     "grade_id": "task2b",
     "locked": true,
     "points": 2,
     "schema_version": 3,
     "solution": false,
     "task": false
    }
   },
   "outputs": [
    {
     "name": "stdout",
     "output_type": "stream",
     "text": [
      "Passed test!\n"
     ]
    }
   ],
   "source": [
    "assert sigmoid(weighted_features(l,m,n)).round(3) == 0.123\n",
    "print (\"Passed test!\")"
   ]
  },
  {
   "cell_type": "code",
   "execution_count": 144,
   "id": "62da3eea-0388-430b-b7a6-1dc19a55d563",
   "metadata": {
    "deletable": false,
    "editable": false,
    "nbgrader": {
     "cell_type": "code",
     "checksum": "bc0f210116f38e901befec0731eb1082",
     "grade": true,
     "grade_id": "task2c",
     "locked": true,
     "points": 1,
     "schema_version": 3,
     "solution": false,
     "task": false
    }
   },
   "outputs": [
    {
     "name": "stdout",
     "output_type": "stream",
     "text": [
      "Test passed\n"
     ]
    }
   ],
   "source": [
    "p_2 = 1 - sigmoid(weighted_features(X,w,b))\n",
    "assert p_2.round(3) == 0.303\n",
    "print(\"Test passed\")"
   ]
  },
  {
   "cell_type": "markdown",
   "id": "fd7cee1b-3a76-4d6b-b1c0-f54531348c4c",
   "metadata": {},
   "source": [
    "#### Task 3 - Calculate the Cross - Entropy Loss  <a id='task3'></a>"
   ]
  },
  {
   "cell_type": "markdown",
   "id": "b18757e1-f170-4694-82d0-07f7a3e3f216",
   "metadata": {},
   "source": [
    "![lr3.png](lr3.png)"
   ]
  },
  {
   "cell_type": "code",
   "execution_count": 145,
   "id": "a9174782-e62b-4617-904c-9384cb02b5c6",
   "metadata": {},
   "outputs": [
    {
     "data": {
      "image/png": "[encoded data removed]",
      "text/plain": [
       "<Figure size 1440x360 with 2 Axes>"
      ]
     },
     "metadata": {
      "needs_background": "light"
     },
     "output_type": "display_data"
    }
   ],
   "source": [
    "#Run this code to see how the loss function works\n",
    "plt.close(\"all\")\n",
    "plt.figure(figsize=(20,5))\n",
    "plt.subplot(1,2,1)\n",
    "prob = np.linspace(0.01,.99,100)\n",
    "plt.plot(prob,-np.log(prob),label=\"-log(prob)\")\n",
    "plt.title(\"Cost for Prediction when the True Label is 1\")\n",
    "plt.xlabel(\"Probability it belongs to Class 1\")\n",
    "plt.ylabel(\"Cost\")\n",
    "plt.legend()\n",
    "plt.subplot(1,2,2)\n",
    "prob = np.linspace(0.01,.99,100)\n",
    "plt.plot(prob,-np.log(1-prob),label=\"-log(1-prob)\")\n",
    "plt.title(\"Cost for Prediction when the True Label is 0\")\n",
    "plt.xlabel(\"Probability it belongs to Class 1\")\n",
    "plt.ylabel(\"Cost\")\n",
    "plt.legend(loc=2)\n",
    "plt.show()"
   ]
  },
  {
   "cell_type": "code",
   "execution_count": 146,
   "id": "dee67d2c-bf9b-46eb-9dcf-fe396a93c44a",
   "metadata": {
    "deletable": false,
    "nbgrader": {
     "cell_type": "code",
     "checksum": "0c28161cf8e2574684893ba2b9b18b2f",
     "grade": false,
     "grade_id": "tASK3",
     "locked": false,
     "schema_version": 3,
     "solution": true,
     "task": false
    }
   },
   "outputs": [],
   "source": [
    "def loss_function(y, predicted_y):\n",
    "    # YOUR CODE HERE\n",
    "    loss = -1 * ((y * np.log(predicted_y)) + (1-y)*np.log(1-predicted_y))\n",
    "    return loss\n",
    "    raise NotImplementedError()"
   ]
  },
  {
   "cell_type": "code",
   "execution_count": 147,
   "id": "4359d1bb-7c6c-4171-abcb-11f1423a2000",
   "metadata": {
    "deletable": false,
    "editable": false,
    "nbgrader": {
     "cell_type": "code",
     "checksum": "5b2bc9de9b08f4d53d6d9177cdb9be38",
     "grade": true,
     "grade_id": "task3a",
     "locked": true,
     "points": 2,
     "schema_version": 3,
     "solution": false,
     "task": false
    }
   },
   "outputs": [
    {
     "name": "stdout",
     "output_type": "stream",
     "text": [
      "Passed test!\n"
     ]
    }
   ],
   "source": [
    "assert loss_function(1, 0.70).round(3) == 0.357\n",
    "print(\"Passed test!\")"
   ]
  },
  {
   "cell_type": "code",
   "execution_count": 148,
   "id": "4b4c6ae5-fac9-4f0f-a334-a78dff1229b6",
   "metadata": {
    "deletable": false,
    "editable": false,
    "nbgrader": {
     "cell_type": "code",
     "checksum": "643d835f0d50c9707a3b0996f7d11dca",
     "grade": true,
     "grade_id": "task3b",
     "locked": true,
     "points": 3,
     "schema_version": 3,
     "solution": false,
     "task": false
    }
   },
   "outputs": [
    {
     "name": "stdout",
     "output_type": "stream",
     "text": [
      "Passed test!\n"
     ]
    }
   ],
   "source": [
    "assert loss_function(1, 0.30).round(3) == 1.204\n",
    "print(\"Passed test!\")"
   ]
  },
  {
   "cell_type": "markdown",
   "id": "99f113d3-adb7-472e-8228-2368859a5e65",
   "metadata": {},
   "source": [
    "#### Task 4 - Implement the Stochastic gradient descent algorithm  <a id='task4'></a>\n",
    "See the lecture note and textbook for more clarity.\n",
    "- lr = learning rate\n",
    "- other variables are as defined previously\n",
    "- return the updated weight and bias\n",
    "\n",
    "- The general algorithm (See comments in the code block to make it clearer)\n",
    "![lr4.png](lr4.png)\n",
    "\n",
    "- The formula for the gradient for each weight\n",
    "![lr5.png](lr5.png)\n",
    "\n",
    "\n",
    "- The formula for the gradient of the bias\n",
    "![lr6.png](lr6.png)\n",
    "\n",
    "\n",
    "- The formula to calculate the updated weight and bias\n",
    "![lr7.png](lr7.png)\n",
    "\n",
    "In simpler terms it is:\n",
    "\n",
    "  `updated_weight = previous_weight - learning_rate * gradient`\n",
    "  \n",
    "  `updated_bias = previous_bias - learning_rate * gradient`\n",
    "  \n",
    "  "
   ]
  },
  {
   "cell_type": "code",
   "execution_count": 149,
   "id": "cd498dac-44be-41b8-b860-2211953ed876",
   "metadata": {
    "deletable": false,
    "nbgrader": {
     "cell_type": "code",
     "checksum": "3988ac7b84bc9020288a145ebaad6554",
     "grade": false,
     "grade_id": "task4",
     "locked": false,
     "schema_version": 3,
     "solution": true,
     "task": false
    }
   },
   "outputs": [],
   "source": [
    "def stochastic_gradient(lr, X, y,w,b):\n",
    "    \n",
    "    # YOUR CODE HERE\n",
    "    # 1a. get predicted_y\n",
    "    y_predicted = weighted_features(X,w,b)\n",
    "\n",
    "    # 1b. Compute the loss**(optional)\n",
    "    loss = loss_function(y[0], y_predicted)\n",
    "\n",
    "    # 2a. compute the gradient of the weights\n",
    "    w_gradient = (sigmoid(y_predicted)-y)*X[0]\n",
    "\n",
    "    # 2b. compute the gradient of the bias\n",
    "    b_gradient = sigmoid(y_predicted)-y[0]\n",
    "\n",
    "    # 3a. compute the updated weight (w)\n",
    "    w = w - lr*w_gradient\n",
    "    # 3b. compute the updated bias (b)\n",
    "    b = b - lr*b_gradient\n",
    "\n",
    "    return w, b\n",
    "    raise NotImplementedError()\n",
    "    "
   ]
  },
  {
   "cell_type": "code",
   "execution_count": 150,
   "id": "260f64da-9f4a-439a-be60-2c3bf1d2a394",
   "metadata": {},
   "outputs": [],
   "source": [
    "X = np.array([[3,2]])\n",
    "w = np.array([0,0])\n",
    "b = 0.0\n",
    "y = [1]\n",
    "lr = 0.1\n"
   ]
  },
  {
   "cell_type": "code",
   "execution_count": 151,
   "id": "86ee7fe7-ac37-45c4-8e08-ac51cb589420",
   "metadata": {
    "deletable": false,
    "editable": false,
    "nbgrader": {
     "cell_type": "code",
     "checksum": "6b72921a5885218072db42260e98581a",
     "grade": true,
     "grade_id": "task4a",
     "locked": true,
     "points": 2,
     "schema_version": 3,
     "solution": false,
     "task": false
    }
   },
   "outputs": [],
   "source": [
    "assert stochastic_gradient(0.1, X, y,w,b)[0][0].round(2) == 0.15"
   ]
  },
  {
   "cell_type": "code",
   "execution_count": 152,
   "id": "0f0ac6f1",
   "metadata": {
    "deletable": false,
    "editable": false,
    "nbgrader": {
     "cell_type": "code",
     "checksum": "bf0afa00b313f1d82df913a3ea258ebf",
     "grade": true,
     "grade_id": "task4b",
     "locked": true,
     "points": 2,
     "schema_version": 3,
     "solution": false,
     "task": false
    }
   },
   "outputs": [],
   "source": [
    "assert stochastic_gradient(0.1, X, y,w,b)[0][1].round(1) == 0.1"
   ]
  },
  {
   "cell_type": "code",
   "execution_count": 153,
   "id": "b4636e8a",
   "metadata": {
    "deletable": false,
    "editable": false,
    "nbgrader": {
     "cell_type": "code",
     "checksum": "7b78e6f11e51bb821433f57db297301e",
     "grade": true,
     "grade_id": "task4c",
     "locked": true,
     "points": 1,
     "schema_version": 3,
     "solution": false,
     "task": false
    }
   },
   "outputs": [],
   "source": [
    "assert stochastic_gradient(0.1, X, y,w,b)[1].round(2) == 0.05"
   ]
  },
  {
   "cell_type": "code",
   "execution_count": 154,
   "id": "b19f39ee",
   "metadata": {
    "deletable": false,
    "editable": false,
    "nbgrader": {
     "cell_type": "code",
     "checksum": "427fa224427062cc599ec78735e7116f",
     "grade": true,
     "grade_id": "task4d",
     "locked": true,
     "points": 1,
     "schema_version": 3,
     "solution": false,
     "task": false
    }
   },
   "outputs": [
    {
     "name": "stdout",
     "output_type": "stream",
     "text": [
      "Tests passed!\n"
     ]
    }
   ],
   "source": [
    "l = np.array([[3.5,2.5,1,3,0,4.19]])\n",
    "m = np.array([2, -5.0, -1.2, 0.5, -2.0, 0.7])\n",
    "b = 0.0\n",
    "y = [1]\n",
    "assert stochastic_gradient(0.1, l, y,m,b)[0][0].round(2) == 2.32\n",
    "print(\"Tests passed!\")"
   ]
  },
  {
   "cell_type": "code",
   "execution_count": 155,
   "id": "eb4dffe1",
   "metadata": {
    "deletable": false,
    "editable": false,
    "nbgrader": {
     "cell_type": "code",
     "checksum": "2c776603a89713aeb3bb541675abf935",
     "grade": true,
     "grade_id": "task4e",
     "locked": true,
     "points": 1,
     "schema_version": 3,
     "solution": false,
     "task": false
    }
   },
   "outputs": [
    {
     "name": "stdout",
     "output_type": "stream",
     "text": [
      "Tests passed!\n"
     ]
    }
   ],
   "source": [
    "assert stochastic_gradient(0.1, l, y,m,b)[0][1].round(2) == -4.77\n",
    "print(\"Tests passed!\")"
   ]
  },
  {
   "cell_type": "code",
   "execution_count": 156,
   "id": "0d4280ae",
   "metadata": {
    "deletable": false,
    "editable": false,
    "nbgrader": {
     "cell_type": "code",
     "checksum": "bc6606e784ffc3ff7a7919c631208367",
     "grade": true,
     "grade_id": "task4f",
     "locked": true,
     "points": 1,
     "schema_version": 3,
     "solution": false,
     "task": false
    }
   },
   "outputs": [
    {
     "name": "stdout",
     "output_type": "stream",
     "text": [
      "Tests passed!\n"
     ]
    }
   ],
   "source": [
    "assert stochastic_gradient(0.1, l, y,m,b)[0][2].round(3) == -1.109\n",
    "print(\"Tests passed!\")"
   ]
  },
  {
   "cell_type": "code",
   "execution_count": 157,
   "id": "ee7c95a3",
   "metadata": {
    "deletable": false,
    "editable": false,
    "nbgrader": {
     "cell_type": "code",
     "checksum": "be91719c5d6bf6c147d5505800aac957",
     "grade": true,
     "grade_id": "task4g",
     "locked": true,
     "points": 1,
     "schema_version": 3,
     "solution": false,
     "task": false
    }
   },
   "outputs": [
    {
     "name": "stdout",
     "output_type": "stream",
     "text": [
      "Tests passed!\n"
     ]
    }
   ],
   "source": [
    "assert stochastic_gradient(0.1, l, y,m,b)[0][3].round(3) == 0.772\n",
    "print(\"Tests passed!\")"
   ]
  },
  {
   "cell_type": "code",
   "execution_count": 158,
   "id": "52d6c9eb",
   "metadata": {
    "deletable": false,
    "editable": false,
    "nbgrader": {
     "cell_type": "code",
     "checksum": "f9f1a5a981188f9eb19b9ff1ba0690a6",
     "grade": true,
     "grade_id": "task4h",
     "locked": true,
     "points": 2,
     "schema_version": 3,
     "solution": false,
     "task": false
    }
   },
   "outputs": [],
   "source": [
    "assert stochastic_gradient(0.1, l, y,m,b)[0][4].round(3) == -2."
   ]
  },
  {
   "cell_type": "code",
   "execution_count": 159,
   "id": "2cf901c2",
   "metadata": {
    "deletable": false,
    "editable": false,
    "nbgrader": {
     "cell_type": "code",
     "checksum": "9ec1f67e7091cc95e177624b2ccdda14",
     "grade": true,
     "grade_id": "task4i",
     "locked": true,
     "points": 2,
     "schema_version": 3,
     "solution": false,
     "task": false
    }
   },
   "outputs": [],
   "source": [
    "assert stochastic_gradient(0.1, l, y,m,b)[0][5].round(2) == 1.08"
   ]
  },
  {
   "cell_type": "code",
   "execution_count": 160,
   "id": "f339a0bc",
   "metadata": {
    "deletable": false,
    "editable": false,
    "nbgrader": {
     "cell_type": "code",
     "checksum": "f1b66e9d59eadd9688fa242d18629e0e",
     "grade": true,
     "grade_id": "task4j",
     "locked": true,
     "points": 2,
     "schema_version": 3,
     "solution": false,
     "task": false
    }
   },
   "outputs": [],
   "source": [
    "assert stochastic_gradient(0.1, l, y,m,b)[1].round(3) == 0.091"
   ]
  },
  {
   "cell_type": "markdown",
   "id": "574a028e-7096-414b-ab75-f378a0eb8828",
   "metadata": {
    "deletable": false,
    "editable": false,
    "jp-MarkdownHeadingCollapsed": true,
    "nbgrader": {
     "cell_type": "markdown",
     "checksum": "e09d5ee5cae068e33f53deadf5b0e790",
     "grade": false,
     "grade_id": "cell-94ce28a607169858",
     "locked": true,
     "schema_version": 3,
     "solution": false,
     "task": false
    },
    "tags": []
   },
   "source": [
    "#### Note: All we have done is for a single instance.\n",
    "`Reference: Extracted from the textbook (Pages 94-95)`\n",
    "\n",
    "Stochastic gradient descent is called stochastic because it chooses a single random\n",
    "example at a time, moving the weights so as to improve performance on that single\n",
    "example. That can result in very choppy movements, so it’s common to compute the\n",
    "gradient over batches of training instances rather than a single instance. \n",
    "\n",
    "For example in batch training we compute the gradient over the entire dataset.\n",
    "By seeing so many examples, batch training offers a superb estimate of which direction\n",
    "to move the weights, at the cost of spending a lot of time processing every\n",
    "single example in the training set to compute this perfect direction.\n",
    "\n",
    "A compromise is mini-batch training, where training is carried out on a group of examples less than the entire dataset."
   ]
  },
  {
   "cell_type": "markdown",
   "id": "8ffd0d2b-75b8-4f01-b051-14f6f56d0b10",
   "metadata": {},
   "source": [
    "When computing the loss over a set of training examples, the `cost function` is used. It is the average loss for each example. The gradient becomes the derivative of the cost function, which is the average of the individual gradients. Vectorization is usually used for efficient computations when dealing with batches."
   ]
  },
  {
   "cell_type": "markdown",
   "id": "3db6a597-23f8-4892-9dbb-3ffa2c19cee9",
   "metadata": {},
   "source": [
    " See the textbook for formula for the cost function and it's gradient."
   ]
  }
 ],
 "metadata": {
  "kernelspec": {
   "display_name": "Python 3.9.12 ('base')",
   "language": "python",
   "name": "python3"
  },
  "language_info": {
   "codemirror_mode": {
    "name": "ipython",
    "version": 3
   },
   "file_extension": ".py",
   "mimetype": "text/x-python",
   "name": "python",
   "nbconvert_exporter": "python",
   "pygments_lexer": "ipython3",
   "version": "3.9.12"
  },
  "vscode": {
   "interpreter": {
    "hash": "5eea758563cecbc2418089a7eebfcbad54465a92aab54983d2f5315150cd075c"
   }
  }
 },
 "nbformat": 4,
 "nbformat_minor": 5
}
